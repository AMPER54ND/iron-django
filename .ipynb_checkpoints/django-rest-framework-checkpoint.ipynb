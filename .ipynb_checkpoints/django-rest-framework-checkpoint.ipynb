{
 "cells": [
  {
   "cell_type": "markdown",
   "metadata": {},
   "source": [
    "# Starting a Django Rest Framework Project\n",
    "\n",
    "## Getting started\n",
    "\n",
    "Check Django version (Should be 2.1 or greater) and clean-up any existing directories if it's not the first time you've run this."
   ]
  },
  {
   "cell_type": "code",
   "execution_count": 1,
   "metadata": {},
   "outputs": [
    {
     "name": "stdout",
     "output_type": "stream",
     "text": [
      "2.1.7\r\n"
     ]
    }
   ],
   "source": [
    "!python -m django --version\n",
    "!rm -rf ratethings"
   ]
  },
  {
   "cell_type": "markdown",
   "metadata": {},
   "source": [
    "Create a django project using the django-admin and traverse into the directory.\n",
    "This is the only django-admin command we will be using. From here on out, we'll use manage.py"
   ]
  },
  {
   "cell_type": "code",
   "execution_count": 2,
   "metadata": {},
   "outputs": [
    {
     "name": "stdout",
     "output_type": "stream",
     "text": [
      "/home/sgroenjes/Documents/Git/brewwolf-python/brewwolf\n",
      "brewwolf  manage.py\r\n"
     ]
    }
   ],
   "source": [
    "!django-admin startproject brewwolf\n",
    "%cd brewwolf\n",
    "!ls"
   ]
  },
  {
   "cell_type": "markdown",
   "metadata": {},
   "source": [
    "## Django Projects and Apps\n",
    "Django projects consist of a top-level project and various apps.  By tradition, there is an app named after the project, but you usually build other apps to hold functionality.  Apps can be standalone, or intertwined.  It's just a code organization tool.\n",
    "\n",
    "The Django documentation includes the following description:\n",
    "\n",
    "\n",
    "| Projects vs. apps\n",
    "| \n",
    "| What’s the difference between a project and an app? An app is a Web application that does something – e.g., a | Weblog system, a database of public records or a simple poll app. A project is a collection of configuration | and apps for a particular website. A project can contain multiple apps. An app can be in multiple projects.\n",
    "\n",
    "\n",
    "Start a new app named \"votethings\", and traverse into that directory."
   ]
  },
  {
   "cell_type": "code",
   "execution_count": 3,
   "metadata": {},
   "outputs": [
    {
     "name": "stdout",
     "output_type": "stream",
     "text": [
      "/home/sgroenjes/Documents/Git/brewwolf-python/brewwolf/rate_beer\n",
      "admin.py  apps.py  __init__.py\tmigrations  models.py  tests.py  views.py\r\n"
     ]
    }
   ],
   "source": [
    "!python manage.py startapp rate_beer\n",
    "%cd rate_beer\n",
    "!ls"
   ]
  },
  {
   "cell_type": "markdown",
   "metadata": {},
   "source": [
    "## Models.py\n",
    "First, we start by creating a basic model for our thing that will be voted on.\n",
    "\n",
    "A django model consists of a both fields and methods.  Fields are literally things that will be stored in the database, and can be referenced and filtered on.  There are a few \"magic\" fields, such as \"id\" or \"pk\" that are predefined. Methods are good for when you want to have actions that live with your model class, which can manipulate values. There are a few \"magic\" methods that allow you to override default behaviors, such as save().\n",
    "\n",
    "Here we are going to create two basic models: A \"Thing\" and a \"Choice\"\n",
    "\n",
    "The Thing model includes a text field as well as a publication date.\n",
    "\n",
    "The Choice model includes a text field and integer field, which should be straightforward.  The ForeignKey field is a linkage that allows the \"choice\" to contain a reference to a \"Thing\". \n"
   ]
  },
  {
   "cell_type": "code",
   "execution_count": 4,
   "metadata": {},
   "outputs": [
    {
     "name": "stdout",
     "output_type": "stream",
     "text": [
      "Overwriting models.py\n"
     ]
    }
   ],
   "source": [
    "%%writefile models.py\n",
    "from django.db import models\n",
    "\n",
    "class Beer(models.Model):\n",
    "    name = models.CharField(max_length=200)\n",
    "    average_rating = models.IntegerField(default=0)\n",
    "    brewery = models.CharField(max_length=200)\n",
    "    beer_type = models.CharField(max_length=200)\n",
    "\n",
    "class Rating(models.Model):\n",
    "    beer = models.ForeignKey(Beer, on_delete=models.CASCADE)\n",
    "    user = models.CharField(max_length=200)\n",
    "    rating = models.IntegerField(default=0)\n",
    "    created_date = models.DateTimeField(auto_now_add=True, blank=True)\n",
    "    comment = models.CharField(max_length=256, blank=True)\n"
   ]
  },
  {
   "cell_type": "markdown",
   "metadata": {},
   "source": [
    "## Serializers.py\n",
    "\n",
    "Once the models exist, we need to create a \"serializer\" which allows Django Rest Framework (DRF) to translate a model into a json/xml blob.  The process of converting a memory object into a json/xml format is called \"serialization\".  Because our models are relatively simple, we can use the default \"modelserializer\" class, which greatly simplifies this process.   Serializers.py is a basic unit of DRF and is not a part of unadultered Django.\n",
    "\n",
    "When using the ModelSerializer, you just have to list out what fields from your model you would like to have accessible via the REST API."
   ]
  },
  {
   "cell_type": "code",
   "execution_count": 5,
   "metadata": {},
   "outputs": [
    {
     "name": "stdout",
     "output_type": "stream",
     "text": [
      "Writing serializers.py\n"
     ]
    }
   ],
   "source": [
    "%%writefile serializers.py\n",
    "from rest_framework import serializers\n",
    "from votethings.models import Thing, Choice\n",
    "\n",
    "\n",
    "class ThingSerializer(serializers.ModelSerializer):\n",
    "    class Meta:\n",
    "        model = Thing\n",
    "        fields = ('id', 'question_text')\n",
    "\n",
    "\n",
    "class ChoiceSerializer(serializers.ModelSerializer):\n",
    "    class Meta:\n",
    "        model = Choice\n",
    "        fields = ('id', 'question', 'choice_text', 'votes')\n"
   ]
  },
  {
   "cell_type": "markdown",
   "metadata": {},
   "source": [
    "## Views.py\n",
    "\n",
    "Once a serializer exists, we can create a view which will allow us to display our serialized models, as well as interact with them.\n",
    "\n",
    "While you can pretty much do whatever you want in views.py, the [Django Guide](https://django-best-practices.readthedocs.io/en/latest/applications.html#models) says \"Make'em fat\".  By that, it means that your design should seperate concerns, and let the Django model handle most of the logic, while you let the views.py stay minimal, just for formatting views. With DRF, we're going to thin out views.py to the bare minimum, and put most of our heavy-lift logic elsewhere.  In DRF, it is useful to have \"viewsets\", which allow you to apply the REST specific logic over and over again with very little effort for each of the models.\n",
    "\n",
    "The two things required for a ModelViewSet are a queryset, which tells it what objects to return, and a serializer, which is the class used to convert the retrieved objects in memory into json.\n",
    "\n",
    "Additionally, if you would like to include additional methods beyond the typical REST verbiage, you can add @action decorators to viewsets.  Here, we're including a 'text' action that returns the text of the question."
   ]
  },
  {
   "cell_type": "code",
   "execution_count": 6,
   "metadata": {},
   "outputs": [
    {
     "name": "stdout",
     "output_type": "stream",
     "text": [
      "Overwriting views.py\n"
     ]
    }
   ],
   "source": [
    "%%writefile views.py\n",
    "from rest_framework import viewsets\n",
    "from rest_framework.decorators import action\n",
    "from rest_framework.response import Response\n",
    "\n",
    "from votethings.models import Thing, Choice\n",
    "from votethings.serializers import ThingSerializer, ChoiceSerializer\n",
    "\n",
    "\n",
    "class ThingViewSet(viewsets.ModelViewSet):\n",
    "    \"\"\"\n",
    "    This viewset automatically provides `list`, `create`, `retrieve`,\n",
    "    `update` and `destroy` actions.\n",
    "\n",
    "    Additionally we also provide an extra `text` action.\n",
    "    \"\"\"\n",
    "    queryset = Thing.objects.all()\n",
    "    serializer_class = ThingSerializer\n",
    "\n",
    "    @action(detail=True)\n",
    "    def text(self, request, *args, **kwargs):\n",
    "        thing = self.get_object()\n",
    "        return Response(thing.question_text)\n",
    "    \n",
    "class ChoiceViewSet(viewsets.ModelViewSet):\n",
    "    \"\"\"\n",
    "    This viewset automatically provides `list`, `create`, `retrieve`,\n",
    "    `update` and `destroy` actions.\n",
    "\n",
    "    Additionally we also provide an extra `text` action.\n",
    "    \"\"\"\n",
    "    queryset = Choice.objects.all()\n",
    "    serializer_class = ChoiceSerializer\n"
   ]
  },
  {
   "cell_type": "markdown",
   "metadata": {},
   "source": [
    "## Urls.py\n",
    "\n",
    "The last file that **must** be created for Django to work is urls.py.  Urls.py defines how the Django application server will route requests. Here we are going to take anything behind the \"/api/\" url and pass that to an API router defined by DRF.  The API router knows how to use our ViewSets, which lets users create/update/delete objects.\n",
    "\n",
    "Note: We are using class based views, which contains extra magic to make the router class work.  If you are not using class based views, this router approach won't work."
   ]
  },
  {
   "cell_type": "code",
   "execution_count": 7,
   "metadata": {},
   "outputs": [
    {
     "name": "stdout",
     "output_type": "stream",
     "text": [
      "Writing urls.py\n"
     ]
    }
   ],
   "source": [
    "%%writefile urls.py\n",
    "from django.urls import path, include\n",
    "from rest_framework.routers import DefaultRouter\n",
    "from votethings import views\n",
    "\n",
    "# Create a router and register our viewsets with it.\n",
    "router = DefaultRouter()\n",
    "router.register(r'things', views.ThingViewSet)\n",
    "router.register(r'choices', views.ChoiceViewSet)\n",
    "\n",
    "# The API URLs are now determined automatically by the router.\n",
    "urlpatterns = [\n",
    "    path('', include(router.urls)),\n",
    "]"
   ]
  },
  {
   "cell_type": "markdown",
   "metadata": {},
   "source": [
    "## Back to the main app\n",
    "\n",
    "Now, the new \"votethings\" app must be integrated in with the main app, ratethings."
   ]
  },
  {
   "cell_type": "code",
   "execution_count": 8,
   "metadata": {},
   "outputs": [
    {
     "name": "stdout",
     "output_type": "stream",
     "text": [
      "/home/sgroenjes/Documents/Git/drf/ratethings/ratethings\n",
      "__init__.py  __pycache__  settings.py  urls.py\twsgi.py\r\n"
     ]
    }
   ],
   "source": [
    "%cd ../ratethings\n",
    "!ls"
   ]
  },
  {
   "cell_type": "markdown",
   "metadata": {},
   "source": [
    "## Settings.py\n",
    "\n",
    "In order for our application to be called, as well as rest_framework, it must be included in the apps list.\n",
    "Usually this is included inline in the app, but because I don't know how to do that from a Jupyter notebook (maybe sed magic), we will just be appending a line to the bottom of the file that appends our app to the list.\n"
   ]
  },
  {
   "cell_type": "code",
   "execution_count": 9,
   "metadata": {},
   "outputs": [
    {
     "name": "stdout",
     "output_type": "stream",
     "text": [
      "Appending to settings.py\n"
     ]
    }
   ],
   "source": [
    "%%writefile -a settings.py\n",
    "\n",
    "# Include our new rest_framework and VotethingsConfig app\n",
    "INSTALLED_APPS.append('rest_framework')\n",
    "INSTALLED_APPS.append('votethings.apps.VotethingsConfig')\n"
   ]
  },
  {
   "cell_type": "markdown",
   "metadata": {},
   "source": [
    "## Urls.py part 2\n",
    "\n",
    "Inside the main app settings.py, there is a line:\n",
    "\n",
    "```\n",
    "ROOT_URLCONF = 'ratethings.urls'\n",
    "```\n",
    "\n",
    "This tells the Django webserver what urls.py to use as the root.\n",
    "\n",
    "We need to pull in the urls.py from the votethings app, and include it behind the '/api/' url.\n",
    "We're also pulling in the Django \"admin\" app, which is handy. We'll use it in the future. Notice how it's a standalone app that we can just pull into our project."
   ]
  },
  {
   "cell_type": "code",
   "execution_count": 10,
   "metadata": {},
   "outputs": [
    {
     "name": "stdout",
     "output_type": "stream",
     "text": [
      "Overwriting urls.py\n"
     ]
    }
   ],
   "source": [
    "%%writefile urls.py\n",
    "from django.contrib import admin\n",
    "from django.urls import include, path\n",
    "\n",
    "urlpatterns = [\n",
    "    path('api/', include('votethings.urls')),\n",
    "    path('admin/', admin.site.urls),\n",
    "]"
   ]
  },
  {
   "cell_type": "markdown",
   "metadata": {},
   "source": [
    "## Database Migrations\n",
    "\n",
    "The last thing we need to do before we can start using our project is to create database migrations and populate the database with our initial tables.\n",
    "\n",
    "First, we 'makemigrations'. This should be commited with the code, and we will need to run the command again every time we update our models.py file.\n",
    "\n",
    "In order to use the migrations files, we run 'migrate'.  This will use whatever the relevant DATABASE is currently configured in the main application settings.py file.  In this case, it's still the default sqlite database.  Once the application is deployed in production, the 'migrate' command will have to be run in order to migrate the production database."
   ]
  },
  {
   "cell_type": "code",
   "execution_count": 11,
   "metadata": {},
   "outputs": [
    {
     "name": "stdout",
     "output_type": "stream",
     "text": [
      "/home/sgroenjes/Documents/Git/drf/ratethings\n",
      "\u001b[36;1mMigrations for 'votethings':\u001b[0m\n",
      "  \u001b[1mvotethings/migrations/0001_initial.py\u001b[0m\n",
      "    - Create model Choice\n",
      "    - Create model Thing\n",
      "    - Add field question to choice\n",
      "\u001b[36;1mOperations to perform:\u001b[0m\n",
      "\u001b[1m  Apply all migrations: \u001b[0madmin, auth, contenttypes, sessions, votethings\n",
      "\u001b[36;1mRunning migrations:\u001b[0m\n",
      "  Applying contenttypes.0001_initial...\u001b[32;1m OK\u001b[0m\n",
      "  Applying auth.0001_initial...\u001b[32;1m OK\u001b[0m\n",
      "  Applying admin.0001_initial...\u001b[32;1m OK\u001b[0m\n",
      "  Applying admin.0002_logentry_remove_auto_add...\u001b[32;1m OK\u001b[0m\n",
      "  Applying admin.0003_logentry_add_action_flag_choices...\u001b[32;1m OK\u001b[0m\n",
      "  Applying contenttypes.0002_remove_content_type_name...\u001b[32;1m OK\u001b[0m\n",
      "  Applying auth.0002_alter_permission_name_max_length...\u001b[32;1m OK\u001b[0m\n",
      "  Applying auth.0003_alter_user_email_max_length...\u001b[32;1m OK\u001b[0m\n",
      "  Applying auth.0004_alter_user_username_opts...\u001b[32;1m OK\u001b[0m\n",
      "  Applying auth.0005_alter_user_last_login_null...\u001b[32;1m OK\u001b[0m\n",
      "  Applying auth.0006_require_contenttypes_0002...\u001b[32;1m OK\u001b[0m\n",
      "  Applying auth.0007_alter_validators_add_error_messages...\u001b[32;1m OK\u001b[0m\n",
      "  Applying auth.0008_alter_user_username_max_length...\u001b[32;1m OK\u001b[0m\n",
      "  Applying auth.0009_alter_user_last_name_max_length...\u001b[32;1m OK\u001b[0m\n",
      "  Applying sessions.0001_initial...\u001b[32;1m OK\u001b[0m\n",
      "  Applying votethings.0001_initial...\u001b[32;1m OK\u001b[0m\n"
     ]
    }
   ],
   "source": [
    "%cd ../\n",
    "!python manage.py makemigrations\n",
    "!python manage.py migrate"
   ]
  },
  {
   "cell_type": "markdown",
   "metadata": {},
   "source": [
    "## Finally, the Runserver\n",
    "\n",
    "At this point, we can run the test server.\n",
    "\n",
    "### NOT FOR PRODUCTION\n",
    "\n",
    "Please, please, please do not use the Django runserver in production. It is not designed for production, not only in terms of performance, but also security.  **Just don't do it**."
   ]
  },
  {
   "cell_type": "code",
   "execution_count": null,
   "metadata": {},
   "outputs": [
    {
     "name": "stdout",
     "output_type": "stream",
     "text": [
      "Performing system checks...\n",
      "\n",
      "System check identified no issues (0 silenced).\n",
      "March 29, 2019 - 19:50:29\n",
      "Django version 2.1.7, using settings 'ratethings.settings'\n",
      "Starting development server at http://127.0.0.1:8000/\n",
      "Quit the server with CONTROL-C.\n",
      "Not Found: /\n",
      "[29/Mar/2019 19:50:33] \u001b[33m\"GET / HTTP/1.1\" 404 2029\u001b[0m\n",
      "Not Found: /favicon.ico\n",
      "[29/Mar/2019 19:50:33] \u001b[33m\"GET /favicon.ico HTTP/1.1\" 404 2080\u001b[0m\n",
      "[29/Mar/2019 19:50:41] \u001b[32m\"GET /api HTTP/1.1\" 301 0\u001b[0m\n",
      "[29/Mar/2019 19:50:41] \u001b[m\"GET /api/ HTTP/1.1\" 200 9823\u001b[0m\n",
      "[29/Mar/2019 19:50:41] \u001b[m\"GET /static/rest_framework/css/bootstrap-tweaks.css HTTP/1.1\" 200 3385\u001b[0m\n",
      "[29/Mar/2019 19:50:41] \u001b[m\"GET /static/rest_framework/css/default.css HTTP/1.1\" 200 1131\u001b[0m\n",
      "[29/Mar/2019 19:50:41] \u001b[m\"GET /static/rest_framework/js/csrf.js HTTP/1.1\" 200 1719\u001b[0m\n",
      "[29/Mar/2019 19:50:41] \u001b[m\"GET /static/rest_framework/js/ajax-form.js HTTP/1.1\" 200 3597\u001b[0m\n",
      "[29/Mar/2019 19:50:41] \u001b[m\"GET /static/rest_framework/css/prettify.css HTTP/1.1\" 200 817\u001b[0m\n",
      "[29/Mar/2019 19:50:41] \u001b[m\"GET /static/rest_framework/js/default.js HTTP/1.1\" 200 1268\u001b[0m\n",
      "[29/Mar/2019 19:50:41] \u001b[m\"GET /static/rest_framework/css/bootstrap.min.css HTTP/1.1\" 200 121457\u001b[0m\n",
      "[29/Mar/2019 19:50:41] \u001b[m\"GET /static/rest_framework/js/bootstrap.min.js HTTP/1.1\" 200 37608\u001b[0m\n",
      "[29/Mar/2019 19:50:41] \u001b[m\"GET /static/rest_framework/js/jquery-3.3.1.min.js HTTP/1.1\" 200 86927\u001b[0m\n",
      "[29/Mar/2019 19:50:41] \u001b[m\"GET /static/rest_framework/js/prettify-min.js HTTP/1.1\" 200 13632\u001b[0m\n",
      "[29/Mar/2019 19:50:41] \u001b[m\"GET /static/rest_framework/img/grid.png HTTP/1.1\" 200 1458\u001b[0m\n",
      "[29/Mar/2019 19:50:46] \u001b[m\"GET /api/things/ HTTP/1.1\" 200 13069\u001b[0m\n",
      "[29/Mar/2019 19:50:57] \u001b[m\"POST /api/things/ HTTP/1.1\" 201 13199\u001b[0m\n",
      "[29/Mar/2019 19:51:16] \u001b[32m\"GET /api/things/1 HTTP/1.1\" 301 0\u001b[0m\n",
      "[29/Mar/2019 19:51:16] \u001b[m\"GET /api/things/1/ HTTP/1.1\" 200 15100\u001b[0m\n",
      "[29/Mar/2019 19:51:25] \u001b[m\"GET /api/things/ HTTP/1.1\" 200 13185\u001b[0m\n",
      "[29/Mar/2019 19:51:28] \u001b[m\"POST /api/things/ HTTP/1.1\" 201 13151\u001b[0m\n",
      "[29/Mar/2019 19:51:33] \u001b[m\"GET /api/things/1/ HTTP/1.1\" 200 15100\u001b[0m\n",
      "[29/Mar/2019 19:51:41] \u001b[32m\"GET /api/things/2 HTTP/1.1\" 301 0\u001b[0m\n",
      "[29/Mar/2019 19:51:41] \u001b[m\"GET /api/things/2/ HTTP/1.1\" 200 15028\u001b[0m\n",
      "[29/Mar/2019 19:51:41] \u001b[36m\"GET /static/rest_framework/js/jquery-3.3.1.min.js HTTP/1.1\" 304 0\u001b[0m\n",
      "[29/Mar/2019 19:51:41] \u001b[36m\"GET /static/rest_framework/css/bootstrap.min.css HTTP/1.1\" 304 0\u001b[0m\n",
      "[29/Mar/2019 19:51:41] \u001b[36m\"GET /static/rest_framework/css/bootstrap-tweaks.css HTTP/1.1\" 304 0\u001b[0m\n",
      "[29/Mar/2019 19:51:41] \u001b[36m\"GET /static/rest_framework/css/default.css HTTP/1.1\" 304 0\u001b[0m\n",
      "[29/Mar/2019 19:51:41] \u001b[36m\"GET /static/rest_framework/js/csrf.js HTTP/1.1\" 304 0\u001b[0m\n",
      "[29/Mar/2019 19:51:41] \u001b[36m\"GET /static/rest_framework/js/ajax-form.js HTTP/1.1\" 304 0\u001b[0m\n",
      "[29/Mar/2019 19:51:41] \u001b[36m\"GET /static/rest_framework/css/prettify.css HTTP/1.1\" 304 0\u001b[0m\n",
      "[29/Mar/2019 19:51:41] \u001b[36m\"GET /static/rest_framework/js/bootstrap.min.js HTTP/1.1\" 304 0\u001b[0m\n",
      "[29/Mar/2019 19:51:41] \u001b[36m\"GET /static/rest_framework/js/default.js HTTP/1.1\" 304 0\u001b[0m\n",
      "[29/Mar/2019 19:51:41] \u001b[36m\"GET /static/rest_framework/js/prettify-min.js HTTP/1.1\" 304 0\u001b[0m\n",
      "[29/Mar/2019 19:51:41] \u001b[36m\"GET /static/rest_framework/img/grid.png HTTP/1.1\" 304 0\u001b[0m\n",
      "[29/Mar/2019 19:51:48] \u001b[m\"GET /api/things/2/?format=json HTTP/1.1\" 200 31\u001b[0m\n",
      "[29/Mar/2019 19:55:24] \u001b[m\"GET /api/ HTTP/1.1\" 200 9823\u001b[0m\n",
      "[29/Mar/2019 19:55:24] \u001b[36m\"GET /static/rest_framework/css/bootstrap.min.css HTTP/1.1\" 304 0\u001b[0m\n",
      "[29/Mar/2019 19:55:24] \u001b[36m\"GET /static/rest_framework/css/default.css HTTP/1.1\" 304 0\u001b[0m\n",
      "[29/Mar/2019 19:55:24] \u001b[36m\"GET /static/rest_framework/js/ajax-form.js HTTP/1.1\" 304 0\u001b[0m\n",
      "[29/Mar/2019 19:55:24] \u001b[36m\"GET /static/rest_framework/js/jquery-3.3.1.min.js HTTP/1.1\" 304 0\u001b[0m\n",
      "[29/Mar/2019 19:55:24] \u001b[36m\"GET /static/rest_framework/css/bootstrap-tweaks.css HTTP/1.1\" 304 0\u001b[0m\n",
      "[29/Mar/2019 19:55:24] \u001b[36m\"GET /static/rest_framework/css/prettify.css HTTP/1.1\" 304 0\u001b[0m\n",
      "[29/Mar/2019 19:55:24] \u001b[36m\"GET /static/rest_framework/js/csrf.js HTTP/1.1\" 304 0\u001b[0m\n",
      "[29/Mar/2019 19:55:24] \u001b[36m\"GET /static/rest_framework/js/prettify-min.js HTTP/1.1\" 304 0\u001b[0m\n",
      "[29/Mar/2019 19:55:24] \u001b[36m\"GET /static/rest_framework/js/bootstrap.min.js HTTP/1.1\" 304 0\u001b[0m\n",
      "[29/Mar/2019 19:55:24] \u001b[36m\"GET /static/rest_framework/js/default.js HTTP/1.1\" 304 0\u001b[0m\n",
      "[29/Mar/2019 19:55:24] \u001b[36m\"GET /static/rest_framework/img/grid.png HTTP/1.1\" 304 0\u001b[0m\n",
      "[29/Mar/2019 19:55:28] \u001b[m\"GET /api/things/ HTTP/1.1\" 200 13277\u001b[0m\n",
      "[29/Mar/2019 19:55:36] \u001b[m\"GET /api/things/1/ HTTP/1.1\" 200 15100\u001b[0m\n",
      "[29/Mar/2019 19:55:38] \u001b[m\"GET /api/ HTTP/1.1\" 200 9823\u001b[0m\n",
      "[29/Mar/2019 19:55:39] \u001b[m\"GET /api/choices/ HTTP/1.1\" 200 13804\u001b[0m\n",
      "[29/Mar/2019 19:57:00] \u001b[m\"GET /api/ HTTP/1.1\" 200 9823\u001b[0m\n",
      "[29/Mar/2019 19:57:00] \u001b[36m\"GET /static/rest_framework/css/bootstrap.min.css HTTP/1.1\" 304 0\u001b[0m\n",
      "[29/Mar/2019 19:57:00] \u001b[36m\"GET /static/rest_framework/js/jquery-3.3.1.min.js HTTP/1.1\" 304 0\u001b[0m\n",
      "[29/Mar/2019 19:57:00] \u001b[36m\"GET /static/rest_framework/css/prettify.css HTTP/1.1\" 304 0\u001b[0m\n",
      "[29/Mar/2019 19:57:00] \u001b[36m\"GET /static/rest_framework/js/ajax-form.js HTTP/1.1\" 304 0\u001b[0m\n",
      "[29/Mar/2019 19:57:00] \u001b[36m\"GET /static/rest_framework/css/bootstrap-tweaks.css HTTP/1.1\" 304 0\u001b[0m\n",
      "[29/Mar/2019 19:57:00] \u001b[36m\"GET /static/rest_framework/css/default.css HTTP/1.1\" 304 0\u001b[0m\n",
      "[29/Mar/2019 19:57:00] \u001b[36m\"GET /static/rest_framework/js/prettify-min.js HTTP/1.1\" 304 0\u001b[0m\n",
      "[29/Mar/2019 19:57:00] \u001b[36m\"GET /static/rest_framework/js/csrf.js HTTP/1.1\" 304 0\u001b[0m\n",
      "[29/Mar/2019 19:57:00] \u001b[36m\"GET /static/rest_framework/js/default.js HTTP/1.1\" 304 0\u001b[0m\n",
      "[29/Mar/2019 19:57:00] \u001b[36m\"GET /static/rest_framework/js/bootstrap.min.js HTTP/1.1\" 304 0\u001b[0m\n",
      "[29/Mar/2019 19:57:02] \u001b[m\"GET /api/things/ HTTP/1.1\" 200 13277\u001b[0m\n",
      "[29/Mar/2019 19:57:08] \u001b[m\"GET /api/things/1/ HTTP/1.1\" 200 15100\u001b[0m\n",
      "[29/Mar/2019 19:57:18] \u001b[32m\"GET /api/things/1/text HTTP/1.1\" 301 0\u001b[0m\n",
      "[29/Mar/2019 19:57:18] \u001b[m\"GET /api/things/1/text/ HTTP/1.1\" 200 10639\u001b[0m\n",
      "[29/Mar/2019 20:01:40] \u001b[m\"GET /api/things/1/text/?format=json HTTP/1.1\" 200 30\u001b[0m\n",
      "Performing system checks...\n",
      "\n",
      "System check identified no issues (0 silenced).\n",
      "March 29, 2019 - 20:15:11\n",
      "Django version 2.1.7, using settings 'ratethings.settings'\n",
      "Starting development server at http://127.0.0.1:8000/\n",
      "Quit the server with CONTROL-C.\n"
     ]
    }
   ],
   "source": [
    "!python manage.py runserver"
   ]
  },
  {
   "cell_type": "markdown",
   "metadata": {},
   "source": [
    "## Behold\n",
    "\n",
    "Now, if you go in your browser to http://localhost:8000/api/, you will see your application."
   ]
  },
  {
   "cell_type": "markdown",
   "metadata": {},
   "source": [
    "# Getting Ready for Production\n",
    "\n",
    "## Settings from Environment\n",
    "\n",
    "In a containerized deployment, it is best practice to pass in most relevent variables for settings through the environment variables.  To do this, we will create a new file that parses the environment variable named DJANGO_CONFIG_JSON, and assigns it appropriately.\n",
    "\n",
    "Then, we will include that at the end of settings.py"
   ]
  },
  {
   "cell_type": "code",
   "execution_count": null,
   "metadata": {},
   "outputs": [],
   "source": [
    "%cd ratethings"
   ]
  },
  {
   "cell_type": "code",
   "execution_count": null,
   "metadata": {},
   "outputs": [],
   "source": [
    "%%writefile settings.py\n",
    "import os\n",
    "import json\n",
    "\n",
    "# Build paths inside the project like this: os.path.join(BASE_DIR, ...)\n",
    "BASE_DIR = os.path.dirname(os.path.dirname(os.path.abspath(__file__)))\n",
    "\n",
    "# Required simple settings. (1)\n",
    "SECRET_KEY = os.environ[\"APP_SECRET_KEY\"]\n",
    "\n",
    "# Simple settings with defaults. (2)\n",
    "DEBUG = os.environ.get(\"APP_DEBUG\") == \"1\"\n",
    "\n",
    "# Interpreted settings. (3)\n",
    "ALLOWED_HOSTS = os.environ \\\n",
    "  .get(\"APP_ALLOWED_HOSTS\", \"localhost\") \\\n",
    "  .split(\",\")\n",
    "\n",
    "# Database JSON config. (4)\n",
    "DEFAULT_DATABASES = {SQlite config}\n",
    "DATABASES = (\n",
    "  json.loads(os.environ[\"APP_DATABASES\"])\n",
    "  if \"APP_DATABASES\" in os.environ\n",
    "  else DEFAULT_DATABASES\n",
    ")\n",
    "\n",
    "# Advanced settings, most useful for debug environments. (5)\n",
    "\n",
    "INSTALLED_APPS = [\n",
    "    'django.contrib.admin',\n",
    "    'django.contrib.auth',\n",
    "    'django.contrib.contenttypes',\n",
    "    'django.contrib.sessions',\n",
    "    'django.contrib.messages',\n",
    "    'django.contrib.staticfiles',\n",
    "    'rest_framework',\n",
    "    'votethings.apps.VotethingsConfig',\n",
    "]\n",
    "\n",
    "if \"APP_ADDITIONAL_APPS\" in os.environ:\n",
    "  INSTALLED_APPS += os.environ[\"APP_ADDITIONAL_APPS\"] \\\n",
    ".split(\",\")\n",
    "\n",
    "\n",
    "MIDDLEWARE = [\n",
    "    'django.middleware.security.SecurityMiddleware',\n",
    "    'django.contrib.sessions.middleware.SessionMiddleware',\n",
    "    'django.middleware.common.CommonMiddleware',\n",
    "    'django.middleware.csrf.CsrfViewMiddleware',\n",
    "    'django.contrib.auth.middleware.AuthenticationMiddleware',\n",
    "    'django.contrib.messages.middleware.MessageMiddleware',\n",
    "    'django.middleware.clickjacking.XFrameOptionsMiddleware',\n",
    "]\n",
    "\n",
    "ROOT_URLCONF = 'ratethings.urls'\n",
    "\n",
    "TEMPLATES = [\n",
    "    {\n",
    "        'BACKEND': 'django.template.backends.django.DjangoTemplates',\n",
    "        'DIRS': [],\n",
    "        'APP_DIRS': True,\n",
    "        'OPTIONS': {\n",
    "            'context_processors': [\n",
    "                'django.template.context_processors.debug',\n",
    "                'django.template.context_processors.request',\n",
    "                'django.contrib.auth.context_processors.auth',\n",
    "                'django.contrib.messages.context_processors.messages',\n",
    "            ],\n",
    "        },\n",
    "    },\n",
    "]\n",
    "\n",
    "WSGI_APPLICATION = 'ratethings.wsgi.application'\n",
    "\n",
    "# Password validation\n",
    "# https://docs.djangoproject.com/en/2.1/ref/settings/#auth-password-validators\n",
    "\n",
    "AUTH_PASSWORD_VALIDATORS = [\n",
    "    {\n",
    "        'NAME': 'django.contrib.auth.password_validation.UserAttributeSimilarityValidator',\n",
    "    },\n",
    "    {\n",
    "        'NAME': 'django.contrib.auth.password_validation.MinimumLengthValidator',\n",
    "    },\n",
    "    {\n",
    "        'NAME': 'django.contrib.auth.password_validation.CommonPasswordValidator',\n",
    "    },\n",
    "    {\n",
    "        'NAME': 'django.contrib.auth.password_validation.NumericPasswordValidator',\n",
    "    },\n",
    "]\n",
    "\n",
    "\n",
    "# Internationalization\n",
    "# https://docs.djangoproject.com/en/2.1/topics/i18n/\n",
    "\n",
    "LANGUAGE_CODE = 'en-us'\n",
    "\n",
    "TIME_ZONE = 'UTC'\n",
    "\n",
    "USE_I18N = True\n",
    "\n",
    "USE_L10N = True\n",
    "\n",
    "USE_TZ = True\n",
    "\n",
    "\n",
    "# Static files (CSS, JavaScript, Images)\n",
    "# https://docs.djangoproject.com/en/2.1/howto/static-files/\n",
    "\n",
    "STATIC_URL = '/static/'"
   ]
  },
  {
   "cell_type": "markdown",
   "metadata": {},
   "source": [
    "## Configure Gunicorn\n",
    "\n",
    "Most people pronounce it, g-unicorn, but the author maintains that gun-icorn is cooler.\n",
    "This is how we server up the application in production without using the super-insecure runserver.\n",
    "We'll be running Gunicorn inside a Docker container, that we have to build and run."
   ]
  },
  {
   "cell_type": "markdown",
   "metadata": {},
   "source": [
    "## Create a Dockerfile\n",
    "\n",
    "A Dockerfile is a standardized way of building containers.  Learn more [Dockerfile reference](https://docs.docker.com/engine/reference/builder/)\n",
    "\n",
    "Basics:\n",
    "* FROM: What container should we start building from?  In this case, it's a [python3 standard container](https://hub.docker.com/_/python/?tab=description)\n",
    "\n",
    "* COPY: Copy files (or directories) from the folder we're building in into the container\n",
    "\n",
    "* RUN: Run a command inside the container.  Beware that it uses /bin/sh, not bash.\n",
    "\n",
    "* WORKDIR: Set the base directory where commands should start inside the container.  Default is /\n",
    "\n",
    "* EXPOSE: What port to expose outside.  This is mostly used when you start getting into higher level orchestration tools\n",
    "\n",
    "* CMD:  What command is run initially if a command isn't specified.  It should be our startup command"
   ]
  },
  {
   "cell_type": "code",
   "execution_count": null,
   "metadata": {},
   "outputs": [],
   "source": [
    "%%writefile Dockerfile\n",
    "FROM python:3\n",
    "\n",
    "COPY ratethings/ /opt/ratethings/\n",
    "COPY requirements.txt /opt/\n",
    "RUN pip install -r /opt/requirements.txt\n",
    "\n",
    "\n",
    "WORKDIR /opt/ratethings/\n",
    "EXPOSE 8000\n",
    "CMD [ \"/usr/local/bin/gunicorn\", \"--bind\", \"0.0.0.0:80\", \"ratethings.wsgi:application\" ]"
   ]
  },
  {
   "cell_type": "markdown",
   "metadata": {},
   "source": [
    "## Build the Dockerfile\n",
    "\n",
    "Make sure you have docker installed and started.  You'll need it.\n",
    "\n",
    "Build runs each command in the Dockerfile, layer by layer.  The '-t' argument lets us tag the image so that we can recall it by a friendly name later on.\n",
    "\n",
    "Unfortunately, you will have to run these commands from your own command line.\n",
    "\n",
    "```\n",
    "sudo docker build -t ratethings .\n",
    "```\n",
    "\n",
    "## Run the Container\n",
    "\n",
    "\n",
    "Here, we actually instantiate the container using the tagged image above.  We also pass through '-p', to bind port 80 on our host to port 80 inside the container. The '-d' daemonizes the container, so that it will be running in the background.\n",
    "\n",
    "```\n",
    "sudo docker run -d -p 80:80 ratethings\n",
    "```\n",
    "\n",
    "## Check it out\n",
    "\n",
    "Now, you can try going to http://localhost/api and see the configuration inside the container."
   ]
  },
  {
   "cell_type": "markdown",
   "metadata": {},
   "source": []
  }
 ],
 "metadata": {
  "kernelspec": {
   "display_name": "Python 3",
   "language": "python",
   "name": "python3"
  },
  "language_info": {
   "codemirror_mode": {
    "name": "ipython",
    "version": 3
   },
   "file_extension": ".py",
   "mimetype": "text/x-python",
   "name": "python",
   "nbconvert_exporter": "python",
   "pygments_lexer": "ipython3",
   "version": "3.6.7"
  }
 },
 "nbformat": 4,
 "nbformat_minor": 2
}
